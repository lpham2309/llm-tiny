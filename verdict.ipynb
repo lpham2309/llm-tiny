{
 "cells": [
  {
   "cell_type": "code",
   "execution_count": 1,
   "id": "4d553c7e-ed34-4360-a53d-21f0254f2fe2",
   "metadata": {
    "ExecuteTime": {
     "end_time": "2025-06-25T12:59:34.087040Z",
     "start_time": "2025-06-25T12:59:34.084729Z"
    }
   },
   "outputs": [],
   "source": [
    "import urllib.request\n",
    "import re\n",
    "from SimpleTokenizerV1 import SimpleTokenizerV1\n",
    "from SimpleTokenizerV2 import SimpleTokenizerV2\n",
    "from importlib.metadata import version\n",
    "import tiktoken"
   ]
  },
  {
   "cell_type": "code",
   "execution_count": 33,
   "id": "be3b2cb0-7d75-411e-8641-ac8ff7f1c290",
   "metadata": {
    "ExecuteTime": {
     "end_time": "2025-06-25T12:35:50.638702Z",
     "start_time": "2025-06-25T12:35:50.636538Z"
    }
   },
   "outputs": [],
   "source": [
    "url = (\"https://raw.githubusercontent.com/rasbt/\"\n",
    "       \"LLMs-from-scratch/main/ch02/01_main-chapter-code/\"\n",
    "       \"the-verdict.txt\")"
   ]
  },
  {
   "cell_type": "code",
   "execution_count": 34,
   "id": "beae06a9-062d-4837-91d9-c489aa37c434",
   "metadata": {
    "ExecuteTime": {
     "end_time": "2025-06-25T12:49:13.569312Z",
     "start_time": "2025-06-25T12:49:13.425431Z"
    }
   },
   "outputs": [
    {
     "data": {
      "text/plain": [
       "('the-verdict.txt', <http.client.HTTPMessage at 0x107120230>)"
      ]
     },
     "execution_count": 34,
     "metadata": {},
     "output_type": "execute_result"
    }
   ],
   "source": [
    "file_path = \"the-verdict.txt\"\n",
    "urllib.request.urlretrieve(url, file_path)"
   ]
  },
  {
   "cell_type": "code",
   "execution_count": 35,
   "id": "7a29b86d-b9ac-4026-9adb-7f192aafab37",
   "metadata": {
    "ExecuteTime": {
     "end_time": "2025-06-25T12:59:38.106555Z",
     "start_time": "2025-06-25T12:59:38.104344Z"
    }
   },
   "outputs": [
    {
     "name": "stdout",
     "output_type": "stream",
     "text": [
      "Total number of characters: 20479\n"
     ]
    }
   ],
   "source": [
    "with open(\"the-verdict.txt\", \"r\", encoding=\"utf-8\") as f:\n",
    "    raw_text = f.read()\n",
    "\n",
    "print(\"Total number of characters:\", len(raw_text))"
   ]
  },
  {
   "cell_type": "code",
   "execution_count": 46,
   "id": "aed65c9d-2ec0-4167-b401-a0267569bb04",
   "metadata": {
    "ExecuteTime": {
     "end_time": "2025-06-25T12:59:39.271145Z",
     "start_time": "2025-06-25T12:59:39.267011Z"
    }
   },
   "outputs": [
    {
     "name": "stdout",
     "output_type": "stream",
     "text": [
      "4690\n"
     ]
    }
   ],
   "source": [
    "pre_processed = re.split(r'([,.:;?_!\"()\\']|--|\\s)', raw_text)\n",
    "pre_processed = [item.strip() for item in pre_processed if item.strip()]\n",
    "print(len(pre_processed))"
   ]
  },
  {
   "cell_type": "code",
   "execution_count": 47,
   "id": "2ac6bbd5-6175-4db4-a584-6d4356d9d1d2",
   "metadata": {
    "ExecuteTime": {
     "end_time": "2025-06-25T12:59:41.379256Z",
     "start_time": "2025-06-25T12:59:41.376557Z"
    }
   },
   "outputs": [
    {
     "name": "stdout",
     "output_type": "stream",
     "text": [
      "1130\n"
     ]
    }
   ],
   "source": [
    "all_words = sorted(set(pre_processed))\n",
    "vocab_size = len(all_words)\n",
    "print(vocab_size)"
   ]
  },
  {
   "cell_type": "code",
   "execution_count": 48,
   "id": "754fadf2-1f74-4171-8afd-77f6ef2cd823",
   "metadata": {
    "ExecuteTime": {
     "end_time": "2025-06-25T12:59:42.607028Z",
     "start_time": "2025-06-25T12:59:42.604128Z"
    }
   },
   "outputs": [
    {
     "name": "stdout",
     "output_type": "stream",
     "text": [
      "('!', 0)\n",
      "('\"', 1)\n",
      "(\"'\", 2)\n",
      "('(', 3)\n",
      "(')', 4)\n",
      "(',', 5)\n",
      "('--', 6)\n",
      "('.', 7)\n",
      "(':', 8)\n",
      "(';', 9)\n",
      "('?', 10)\n",
      "('A', 11)\n",
      "('Ah', 12)\n",
      "('Among', 13)\n",
      "('And', 14)\n",
      "('Are', 15)\n",
      "('Arrt', 16)\n",
      "('As', 17)\n",
      "('At', 18)\n",
      "('Be', 19)\n",
      "('Begin', 20)\n",
      "('Burlington', 21)\n",
      "('But', 22)\n",
      "('By', 23)\n",
      "('Carlo', 24)\n",
      "('Chicago', 25)\n",
      "('Claude', 26)\n",
      "('Come', 27)\n",
      "('Croft', 28)\n",
      "('Destroyed', 29)\n",
      "('Devonshire', 30)\n",
      "('Don', 31)\n",
      "('Dubarry', 32)\n",
      "('Emperors', 33)\n",
      "('Florence', 34)\n",
      "('For', 35)\n",
      "('Gallery', 36)\n",
      "('Gideon', 37)\n",
      "('Gisburn', 38)\n",
      "('Gisburns', 39)\n",
      "('Grafton', 40)\n",
      "('Greek', 41)\n",
      "('Grindle', 42)\n",
      "('Grindles', 43)\n",
      "('HAD', 44)\n",
      "('Had', 45)\n",
      "('Hang', 46)\n",
      "('Has', 47)\n",
      "('He', 48)\n",
      "('Her', 49)\n",
      "('Hermia', 50)\n"
     ]
    }
   ],
   "source": [
    "vocab = {token:integer for integer, token in enumerate(all_words)}\n",
    "\n",
    "for i, item in enumerate(vocab.items()):\n",
    "    print(item)\n",
    "    if i >= 50:\n",
    "        break"
   ]
  },
  {
   "cell_type": "code",
   "execution_count": 49,
   "id": "900d3dc9-256b-47ef-a6cb-8617b1e90c1e",
   "metadata": {
    "ExecuteTime": {
     "end_time": "2025-06-25T12:49:33.007737Z",
     "start_time": "2025-06-25T12:49:33.005098Z"
    }
   },
   "outputs": [
    {
     "name": "stdout",
     "output_type": "stream",
     "text": [
      "[1, 56, 2, 850, 988, 602, 533, 746, 5, 1126, 596, 5, 1, 67, 7, 38, 851, 1108, 754, 793, 7]\n"
     ]
    }
   ],
   "source": [
    "tokenizer = SimpleTokenizerV1(vocab)\n",
    "text = \"\"\"\"It's the last he painted, you know,\"\n",
    "       Mrs. Gisburn said with pardonable pride.\"\"\"\n",
    "ids = tokenizer.encode(text)\n",
    "print(ids)"
   ]
  },
  {
   "cell_type": "code",
   "execution_count": 50,
   "id": "f91bb012fee3a23a",
   "metadata": {
    "ExecuteTime": {
     "end_time": "2025-06-25T12:49:34.301526Z",
     "start_time": "2025-06-25T12:49:34.298979Z"
    }
   },
   "outputs": [
    {
     "name": "stdout",
     "output_type": "stream",
     "text": [
      "\" It' s the last he painted, you know,\" Mrs. Gisburn said with pardonable pride.\n"
     ]
    }
   ],
   "source": [
    "print(tokenizer.decode(ids))"
   ]
  },
  {
   "cell_type": "code",
   "execution_count": 62,
   "id": "cb8eeaa403b6d542",
   "metadata": {
    "ExecuteTime": {
     "end_time": "2025-06-25T12:49:35.447594Z",
     "start_time": "2025-06-25T12:49:35.444214Z"
    }
   },
   "outputs": [
    {
     "name": "stdout",
     "output_type": "stream",
     "text": [
      "1132\n"
     ]
    }
   ],
   "source": [
    "all_tokens = sorted(list(set(pre_processed)))\n",
    "all_tokens.extend([\"<|endoftext|>\", \"<|unk|>\"])\n",
    "vocab = {token:integer for integer, token in enumerate(all_tokens)}\n",
    "\n",
    "print(len(vocab.items()))"
   ]
  },
  {
   "cell_type": "code",
   "execution_count": 63,
   "id": "f78ba53b5915ac1c",
   "metadata": {
    "ExecuteTime": {
     "end_time": "2025-06-25T12:49:36.735120Z",
     "start_time": "2025-06-25T12:49:36.732174Z"
    }
   },
   "outputs": [
    {
     "name": "stdout",
     "output_type": "stream",
     "text": [
      "('younger', 1127)\n",
      "('your', 1128)\n",
      "('yourself', 1129)\n",
      "('<|endoftext|>', 1130)\n",
      "('<|unk|>', 1131)\n"
     ]
    }
   ],
   "source": [
    "for i, item in enumerate(list(vocab.items())[-5:]):\n",
    "    print(item)"
   ]
  },
  {
   "cell_type": "code",
   "execution_count": 68,
   "id": "67d10d3438c92daa",
   "metadata": {
    "ExecuteTime": {
     "end_time": "2025-06-25T12:59:46.275567Z",
     "start_time": "2025-06-25T12:59:46.273272Z"
    }
   },
   "outputs": [
    {
     "name": "stdout",
     "output_type": "stream",
     "text": [
      "Hello, do you like tea? <|endoftext|> In the sunlit terraces of the palace.\n"
     ]
    }
   ],
   "source": [
    "tokenizer = SimpleTokenizerV2(vocab)\n",
    "\n",
    "text1 = \"Hello, do you like tea?\"\n",
    "text2 = \"In the sunlit terraces of the palace.\"\n",
    "\n",
    "text = \" <|endoftext|> \".join((text1, text2))\n",
    "\n",
    "print(text)"
   ]
  },
  {
   "cell_type": "code",
   "execution_count": 69,
   "id": "a24d26d735df47eb",
   "metadata": {
    "ExecuteTime": {
     "end_time": "2025-06-25T12:59:47.784061Z",
     "start_time": "2025-06-25T12:59:47.769593Z"
    }
   },
   "outputs": [
    {
     "data": {
      "text/plain": [
       "[1131, 5, 355, 1126, 628, 975, 10, 1130, 55, 988, 956, 984, 722, 988, 1131, 7]"
      ]
     },
     "execution_count": 69,
     "metadata": {},
     "output_type": "execute_result"
    }
   ],
   "source": [
    "tokenizer.encode(text)"
   ]
  },
  {
   "cell_type": "code",
   "execution_count": 71,
   "id": "2d7241e3-c14c-4d2c-8188-33b7ee3d688d",
   "metadata": {},
   "outputs": [
    {
     "name": "stdout",
     "output_type": "stream",
     "text": [
      "<|unk|>, do you like tea? <|endoftext|> In the sunlit terraces of the <|unk|>.\n"
     ]
    }
   ],
   "source": [
    "print(tokenizer.decode(tokenizer.encode(text)))"
   ]
  },
  {
   "cell_type": "code",
   "execution_count": 2,
   "id": "ea7b4ef2-45a5-4afb-8915-a8025390d4b8",
   "metadata": {},
   "outputs": [
    {
     "name": "stdout",
     "output_type": "stream",
     "text": [
      "Tiktoken version:  0.9.0\n"
     ]
    }
   ],
   "source": [
    "print(\"Tiktoken version: \", version(\"tiktoken\"))"
   ]
  },
  {
   "cell_type": "code",
   "execution_count": 3,
   "id": "2f5c4a5d-c1ef-41d0-ab6d-fff382f7765f",
   "metadata": {},
   "outputs": [],
   "source": [
    "# Below is to attempt using byte pair encoding instead of <|endoftext|> for tokenization\n",
    "tokenizer = tiktoken.get_encoding(\"gpt2\")"
   ]
  },
  {
   "cell_type": "code",
   "execution_count": 6,
   "id": "72322b90-5073-4573-8d7b-e1b14501c9f7",
   "metadata": {},
   "outputs": [
    {
     "name": "stdout",
     "output_type": "stream",
     "text": [
      "[15496, 11, 466, 345, 588, 8887, 30, 220, 50256, 554, 262, 4252, 18250, 8812, 2114, 1659, 617, 34680, 27271, 13]\n"
     ]
    }
   ],
   "source": [
    "text = (\n",
    "    \"Hello, do you like tea? <|endoftext|> In the sunlit terraces\"\n",
    "    \"of someunknownPlace.\"\n",
    ")\n",
    "\n",
    "integers = tokenizer.encode(text, allowed_special={\"<|endoftext|>\"})\n",
    "print(integers)"
   ]
  },
  {
   "cell_type": "code",
   "execution_count": 18,
   "id": "b4fee51e-68bb-4781-9fe7-a36789c389eb",
   "metadata": {},
   "outputs": [
    {
     "name": "stdout",
     "output_type": "stream",
     "text": [
      "Hello, do you like tea? <|endoftext|> In the sunlit terracesof someunknownPlace.\n"
     ]
    }
   ],
   "source": [
    "strings = tokenizer.decode(integers)\n",
    "print(strings)"
   ]
  },
  {
   "cell_type": "code",
   "execution_count": 28,
   "id": "31205def-1921-4bbe-93c0-f9311ffa4b58",
   "metadata": {},
   "outputs": [
    {
     "name": "stdout",
     "output_type": "stream",
     "text": [
      "[33901, 86, 343, 86, 220, 959]\n"
     ]
    }
   ],
   "source": [
    "unknown_word = \"Akwirw ier\"\n",
    "token_ids = tokenizer.encode(unknown_word)\n",
    "print(token_ids)"
   ]
  },
  {
   "cell_type": "code",
   "execution_count": 27,
   "id": "1f580470-35fd-4576-b53f-f7f1319d4f81",
   "metadata": {},
   "outputs": [
    {
     "name": "stdout",
     "output_type": "stream",
     "text": [
      "ier\n"
     ]
    }
   ],
   "source": [
    "reconstruct_word = tokenizer.decode([959])\n",
    "print(reconstruct_word)"
   ]
  },
  {
   "cell_type": "code",
   "execution_count": null,
   "id": "41733548-ff70-46b1-91b3-9e3472da59d1",
   "metadata": {},
   "outputs": [],
   "source": []
  }
 ],
 "metadata": {
  "kernelspec": {
   "display_name": "Python 3 (ipykernel)",
   "language": "python",
   "name": "python3"
  },
  "language_info": {
   "codemirror_mode": {
    "name": "ipython",
    "version": 3
   },
   "file_extension": ".py",
   "mimetype": "text/x-python",
   "name": "python",
   "nbconvert_exporter": "python",
   "pygments_lexer": "ipython3",
   "version": "3.12.7"
  }
 },
 "nbformat": 4,
 "nbformat_minor": 5
}
